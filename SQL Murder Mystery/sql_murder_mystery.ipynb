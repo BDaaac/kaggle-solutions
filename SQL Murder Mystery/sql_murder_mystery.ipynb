{
 "cells": [
  {
   "cell_type": "code",
   "execution_count": 5,
   "id": "625a60b4",
   "metadata": {},
   "outputs": [],
   "source": [
    "# Импортирую библеотеки\n",
    "import sqlite3 as sql\n",
    "import pandas as pd\n",
    "\n",
    "# Настройка отображения DataFrame\n",
    "pd.set_option('display.max_colwidth', None)\n"
   ]
  },
  {
   "cell_type": "code",
   "execution_count": 14,
   "id": "8d6105c2",
   "metadata": {},
   "outputs": [
    {
     "data": {
      "text/html": [
       "<div>\n",
       "<style scoped>\n",
       "    .dataframe tbody tr th:only-of-type {\n",
       "        vertical-align: middle;\n",
       "    }\n",
       "\n",
       "    .dataframe tbody tr th {\n",
       "        vertical-align: top;\n",
       "    }\n",
       "\n",
       "    .dataframe thead th {\n",
       "        text-align: right;\n",
       "    }\n",
       "</style>\n",
       "<table border=\"1\" class=\"dataframe\">\n",
       "  <thead>\n",
       "    <tr style=\"text-align: right;\">\n",
       "      <th></th>\n",
       "      <th>date</th>\n",
       "      <th>type</th>\n",
       "      <th>description</th>\n",
       "      <th>city</th>\n",
       "    </tr>\n",
       "  </thead>\n",
       "  <tbody>\n",
       "    <tr>\n",
       "      <th>0</th>\n",
       "      <td>20180115</td>\n",
       "      <td>murder</td>\n",
       "      <td>Security footage shows that there were 2 witnesses. The first witness lives at the last house on \"Northwestern Dr\". The second witness, named Annabel, lives somewhere on \"Franklin Ave\".</td>\n",
       "      <td>SQL City</td>\n",
       "    </tr>\n",
       "  </tbody>\n",
       "</table>\n",
       "</div>"
      ],
      "text/plain": [
       "       date    type  \\\n",
       "0  20180115  murder   \n",
       "\n",
       "                                                                                                                                                                                 description  \\\n",
       "0  Security footage shows that there were 2 witnesses. The first witness lives at the last house on \"Northwestern Dr\". The second witness, named Annabel, lives somewhere on \"Franklin Ave\".   \n",
       "\n",
       "       city  \n",
       "0  SQL City  "
      ]
     },
     "execution_count": 14,
     "metadata": {},
     "output_type": "execute_result"
    }
   ],
   "source": [
    "con = sql.connect(r\"C:\\Users\\Димаш\\Desktop\\python\\SQL Murder Mystery\\sql-murder-mystery.db\")\n",
    "query1 = \"\"\"\n",
    "SELECT *\n",
    "FROM crime_scene_report\n",
    "WHERE city = 'SQL City' AND type = 'murder' AND date = 20180115\n",
    "\"\"\"\n",
    "pd.read_sql_query(query1, con)\n"
   ]
  },
  {
   "cell_type": "code",
   "execution_count": null,
   "id": "96d8bfd4",
   "metadata": {},
   "outputs": [
    {
     "data": {
      "text/html": [
       "<div>\n",
       "<style scoped>\n",
       "    .dataframe tbody tr th:only-of-type {\n",
       "        vertical-align: middle;\n",
       "    }\n",
       "\n",
       "    .dataframe tbody tr th {\n",
       "        vertical-align: top;\n",
       "    }\n",
       "\n",
       "    .dataframe thead th {\n",
       "        text-align: right;\n",
       "    }\n",
       "</style>\n",
       "<table border=\"1\" class=\"dataframe\">\n",
       "  <thead>\n",
       "    <tr style=\"text-align: right;\">\n",
       "      <th></th>\n",
       "      <th>transcript</th>\n",
       "      <th>name</th>\n",
       "      <th>id</th>\n",
       "    </tr>\n",
       "  </thead>\n",
       "  <tbody>\n",
       "    <tr>\n",
       "      <th>0</th>\n",
       "      <td>I heard a gunshot and then saw a man run out. He had a \"Get Fit Now Gym\" bag. The membership number on the bag started with \"48Z\". Only gold members have those bags. The man got into a car with a plate that included \"H42W\".</td>\n",
       "      <td>Morty Schapiro</td>\n",
       "      <td>14887</td>\n",
       "    </tr>\n",
       "  </tbody>\n",
       "</table>\n",
       "</div>"
      ],
      "text/plain": [
       "                                                                                                                                                                                                                        transcript  \\\n",
       "0  I heard a gunshot and then saw a man run out. He had a \"Get Fit Now Gym\" bag. The membership number on the bag started with \"48Z\". Only gold members have those bags. The man got into a car with a plate that included \"H42W\".   \n",
       "\n",
       "             name     id  \n",
       "0  Morty Schapiro  14887  "
      ]
     },
     "execution_count": 23,
     "metadata": {},
     "output_type": "execute_result"
    }
   ],
   "source": [
    "#Показания первого свидетеля\n",
    "witness1 = \"\"\"\n",
    "select \n",
    "    interview.transcript,\n",
    "    person.name,\n",
    "    person.id\n",
    "from interview\n",
    "join person on interview.person_id=person.id\n",
    "where person.address_street_name = 'Northwestern Dr'\n",
    "order by person.address_number desc\n",
    "limit 1\n",
    "\"\"\"\n",
    "pd.read_sql_query(witness1, con)\n"
   ]
  },
  {
   "cell_type": "code",
   "execution_count": null,
   "id": "baec42e3",
   "metadata": {},
   "outputs": [
    {
     "data": {
      "text/html": [
       "<div>\n",
       "<style scoped>\n",
       "    .dataframe tbody tr th:only-of-type {\n",
       "        vertical-align: middle;\n",
       "    }\n",
       "\n",
       "    .dataframe tbody tr th {\n",
       "        vertical-align: top;\n",
       "    }\n",
       "\n",
       "    .dataframe thead th {\n",
       "        text-align: right;\n",
       "    }\n",
       "</style>\n",
       "<table border=\"1\" class=\"dataframe\">\n",
       "  <thead>\n",
       "    <tr style=\"text-align: right;\">\n",
       "      <th></th>\n",
       "      <th>transcript</th>\n",
       "      <th>name</th>\n",
       "      <th>id</th>\n",
       "    </tr>\n",
       "  </thead>\n",
       "  <tbody>\n",
       "    <tr>\n",
       "      <th>0</th>\n",
       "      <td>I saw the murder happen, and I recognized the killer from my gym when I was working out last week on January the 9th.</td>\n",
       "      <td>Annabel Miller</td>\n",
       "      <td>16371</td>\n",
       "    </tr>\n",
       "  </tbody>\n",
       "</table>\n",
       "</div>"
      ],
      "text/plain": [
       "                                                                                                              transcript  \\\n",
       "0  I saw the murder happen, and I recognized the killer from my gym when I was working out last week on January the 9th.   \n",
       "\n",
       "             name     id  \n",
       "0  Annabel Miller  16371  "
      ]
     },
     "execution_count": 30,
     "metadata": {},
     "output_type": "execute_result"
    }
   ],
   "source": [
    "#показания второго свидетеля \n",
    "witness2 = \"\"\"\n",
    "select \n",
    "    interview.transcript,\n",
    "    person.name,\n",
    "    person.id\n",
    "from interview\n",
    "join person on interview.person_id=person.id\n",
    "where \n",
    "person.name like '%Annabel%' and person.address_street_name = 'Franklin Ave'\n",
    "limit 1\n",
    "\"\"\"\n",
    "pd.read_sql_query(witness2, con)\n"
   ]
  },
  {
   "cell_type": "markdown",
   "id": "b9c11fdf",
   "metadata": {},
   "source": [
    "Clues:\n",
    "Gold memeber in the gym\n",
    "License plate on car was H42W\n",
    "Membership number on bag start with 48Z\n",
    "Had a \"Get Fit Now\" Gym bag\n"
   ]
  },
  {
   "cell_type": "code",
   "execution_count": 38,
   "id": "196bd799",
   "metadata": {},
   "outputs": [
    {
     "data": {
      "text/html": [
       "<div>\n",
       "<style scoped>\n",
       "    .dataframe tbody tr th:only-of-type {\n",
       "        vertical-align: middle;\n",
       "    }\n",
       "\n",
       "    .dataframe tbody tr th {\n",
       "        vertical-align: top;\n",
       "    }\n",
       "\n",
       "    .dataframe thead th {\n",
       "        text-align: right;\n",
       "    }\n",
       "</style>\n",
       "<table border=\"1\" class=\"dataframe\">\n",
       "  <thead>\n",
       "    <tr style=\"text-align: right;\">\n",
       "      <th></th>\n",
       "      <th>name</th>\n",
       "      <th>address_number</th>\n",
       "      <th>address_street_name</th>\n",
       "      <th>ssn</th>\n",
       "      <th>car_make</th>\n",
       "      <th>car_model</th>\n",
       "      <th>age</th>\n",
       "      <th>height</th>\n",
       "      <th>eye_color</th>\n",
       "      <th>hair_color</th>\n",
       "      <th>gender</th>\n",
       "      <th>plate_number</th>\n",
       "    </tr>\n",
       "  </thead>\n",
       "  <tbody>\n",
       "    <tr>\n",
       "      <th>0</th>\n",
       "      <td>Jeremy Bowers</td>\n",
       "      <td>530</td>\n",
       "      <td>Washington Pl, Apt 3A</td>\n",
       "      <td>871539279</td>\n",
       "      <td>Chevrolet</td>\n",
       "      <td>Spark LS</td>\n",
       "      <td>30</td>\n",
       "      <td>70</td>\n",
       "      <td>brown</td>\n",
       "      <td>brown</td>\n",
       "      <td>male</td>\n",
       "      <td>0H42W2</td>\n",
       "    </tr>\n",
       "  </tbody>\n",
       "</table>\n",
       "</div>"
      ],
      "text/plain": [
       "            name  address_number    address_street_name        ssn   car_make  \\\n",
       "0  Jeremy Bowers             530  Washington Pl, Apt 3A  871539279  Chevrolet   \n",
       "\n",
       "  car_model  age  height eye_color hair_color gender plate_number  \n",
       "0  Spark LS   30      70     brown      brown   male       0H42W2  "
      ]
     },
     "execution_count": 38,
     "metadata": {},
     "output_type": "execute_result"
    }
   ],
   "source": [
    "suspect= \"\"\"\n",
    "with gym as (\n",
    "    select *\n",
    "    from get_fit_now_member\n",
    "    inner join get_fit_now_check_in\n",
    "    on get_fit_now_check_in.membership_id = get_fit_now_member.id\n",
    "    where \n",
    "        get_fit_now_member.membership_status = 'gold' \n",
    "        and \n",
    "        get_fit_now_check_in.check_in_date = 20180109\n",
    "        and \n",
    "        get_fit_now_check_in.membership_id like '%48Z%'\n",
    "        \n",
    ")\n",
    "select\n",
    "person.name,\n",
    "    person.address_number,\n",
    "    person.address_street_name,\n",
    "    person.ssn,\n",
    "    drivers_license.car_make,\n",
    "    drivers_license.car_model,\n",
    "    drivers_license.age,\n",
    "    drivers_license.height,\n",
    "    drivers_license.eye_color,\n",
    "    drivers_license.hair_color,\n",
    "    drivers_license.gender,\n",
    "    drivers_license.plate_number\n",
    "from person\n",
    "join gym on person.id = gym.person_id\n",
    "join drivers_license on person.license_id = drivers_license.id\n",
    "where drivers_license.plate_number like '%H42W%'\n",
    "\"\"\"\n",
    "pd.read_sql_query(suspect, con)"
   ]
  },
  {
   "cell_type": "code",
   "execution_count": 44,
   "id": "8f6b9dcd",
   "metadata": {},
   "outputs": [
    {
     "data": {
      "text/html": [
       "<div>\n",
       "<style scoped>\n",
       "    .dataframe tbody tr th:only-of-type {\n",
       "        vertical-align: middle;\n",
       "    }\n",
       "\n",
       "    .dataframe tbody tr th {\n",
       "        vertical-align: top;\n",
       "    }\n",
       "\n",
       "    .dataframe thead th {\n",
       "        text-align: right;\n",
       "    }\n",
       "</style>\n",
       "<table border=\"1\" class=\"dataframe\">\n",
       "  <thead>\n",
       "    <tr style=\"text-align: right;\">\n",
       "      <th></th>\n",
       "      <th>transcript</th>\n",
       "    </tr>\n",
       "  </thead>\n",
       "  <tbody>\n",
       "    <tr>\n",
       "      <th>0</th>\n",
       "      <td>I was hired by a woman with a lot of money. I don't know her name but I know she's around 5'5\" (65\") or 5'7\" (67\"). She has red hair and she drives a Tesla Model S. I know that she attended the SQL Symphony Concert 3 times in December 2017.\\n</td>\n",
       "    </tr>\n",
       "  </tbody>\n",
       "</table>\n",
       "</div>"
      ],
      "text/plain": [
       "                                                                                                                                                                                                                                           transcript\n",
       "0  I was hired by a woman with a lot of money. I don't know her name but I know she's around 5'5\" (65\") or 5'7\" (67\"). She has red hair and she drives a Tesla Model S. I know that she attended the SQL Symphony Concert 3 times in December 2017.\\n"
      ]
     },
     "execution_count": 44,
     "metadata": {},
     "output_type": "execute_result"
    }
   ],
   "source": [
    "jeremy_testimony = \"\"\"\n",
    "select transcript\n",
    "from interview\n",
    "join person on person.id = interview.person_id\n",
    "where person.name = 'Jeremy Bowers'\n",
    "\"\"\"\n",
    "pd.read_sql_query(jeremy_testimony,con)"
   ]
  },
  {
   "cell_type": "markdown",
   "id": "fc8fb1e5",
   "metadata": {},
   "source": [
    "The real culprit has not yet been caught."
   ]
  },
  {
   "cell_type": "code",
   "execution_count": 67,
   "id": "f67fef49",
   "metadata": {},
   "outputs": [
    {
     "data": {
      "text/html": [
       "<div>\n",
       "<style scoped>\n",
       "    .dataframe tbody tr th:only-of-type {\n",
       "        vertical-align: middle;\n",
       "    }\n",
       "\n",
       "    .dataframe tbody tr th {\n",
       "        vertical-align: top;\n",
       "    }\n",
       "\n",
       "    .dataframe thead th {\n",
       "        text-align: right;\n",
       "    }\n",
       "</style>\n",
       "<table border=\"1\" class=\"dataframe\">\n",
       "  <thead>\n",
       "    <tr style=\"text-align: right;\">\n",
       "      <th></th>\n",
       "      <th>name</th>\n",
       "    </tr>\n",
       "  </thead>\n",
       "  <tbody>\n",
       "    <tr>\n",
       "      <th>0</th>\n",
       "      <td>Red Korb</td>\n",
       "    </tr>\n",
       "    <tr>\n",
       "      <th>1</th>\n",
       "      <td>Regina George</td>\n",
       "    </tr>\n",
       "    <tr>\n",
       "      <th>2</th>\n",
       "      <td>Miranda Priestly</td>\n",
       "    </tr>\n",
       "  </tbody>\n",
       "</table>\n",
       "</div>"
      ],
      "text/plain": [
       "               name\n",
       "0          Red Korb\n",
       "1     Regina George\n",
       "2  Miranda Priestly"
      ]
     },
     "execution_count": 67,
     "metadata": {},
     "output_type": "execute_result"
    }
   ],
   "source": [
    "suspect = ''' \n",
    "select person.name\n",
    "from person \n",
    "join drivers_license on person.license_id = drivers_license.id\n",
    "where \n",
    "drivers_license.car_model = 'Model S' and car_make = 'Tesla' and gender = 'female' and hair_color = 'red'\n",
    "'''\n",
    "pd.read_sql_query(suspect,con)"
   ]
  },
  {
   "cell_type": "markdown",
   "id": "316c6cab",
   "metadata": {},
   "source": [
    "i have 3 suspect so i need further insvestigation."
   ]
  },
  {
   "cell_type": "code",
   "execution_count": 70,
   "id": "439d27e2",
   "metadata": {},
   "outputs": [
    {
     "data": {
      "text/html": [
       "<div>\n",
       "<style scoped>\n",
       "    .dataframe tbody tr th:only-of-type {\n",
       "        vertical-align: middle;\n",
       "    }\n",
       "\n",
       "    .dataframe tbody tr th {\n",
       "        vertical-align: top;\n",
       "    }\n",
       "\n",
       "    .dataframe thead th {\n",
       "        text-align: right;\n",
       "    }\n",
       "</style>\n",
       "<table border=\"1\" class=\"dataframe\">\n",
       "  <thead>\n",
       "    <tr style=\"text-align: right;\">\n",
       "      <th></th>\n",
       "      <th>name</th>\n",
       "    </tr>\n",
       "  </thead>\n",
       "  <tbody>\n",
       "    <tr>\n",
       "      <th>0</th>\n",
       "      <td>Miranda Priestly</td>\n",
       "    </tr>\n",
       "    <tr>\n",
       "      <th>1</th>\n",
       "      <td>Miranda Priestly</td>\n",
       "    </tr>\n",
       "    <tr>\n",
       "      <th>2</th>\n",
       "      <td>Miranda Priestly</td>\n",
       "    </tr>\n",
       "  </tbody>\n",
       "</table>\n",
       "</div>"
      ],
      "text/plain": [
       "               name\n",
       "0  Miranda Priestly\n",
       "1  Miranda Priestly\n",
       "2  Miranda Priestly"
      ]
     },
     "execution_count": 70,
     "metadata": {},
     "output_type": "execute_result"
    }
   ],
   "source": [
    "Culprit = ''' \n",
    "select name\n",
    "from person\n",
    "join facebook_event_checkin on person.id = facebook_event_checkin.person_id\n",
    "where event_name = 'SQL Symphony Concert' and (name = 'Red Korb' or name = 'Regina George' or name = 'Miranda Priestly')\n",
    "\n",
    "'''\n",
    "pd.read_sql_query(Culprit,con)"
   ]
  },
  {
   "cell_type": "markdown",
   "id": "e97be659",
   "metadata": {},
   "source": [
    "Miranda Priestly is the real culprit"
   ]
  }
 ],
 "metadata": {
  "kernelspec": {
   "display_name": "Python 3",
   "language": "python",
   "name": "python3"
  },
  "language_info": {
   "codemirror_mode": {
    "name": "ipython",
    "version": 3
   },
   "file_extension": ".py",
   "mimetype": "text/x-python",
   "name": "python",
   "nbconvert_exporter": "python",
   "pygments_lexer": "ipython3",
   "version": "3.12.5"
  }
 },
 "nbformat": 4,
 "nbformat_minor": 5
}
